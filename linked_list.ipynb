{
 "cells": [
  {
   "attachments": {},
   "cell_type": "markdown",
   "metadata": {},
   "source": [
    "## Linked Lists"
   ]
  },
  {
   "attachments": {},
   "cell_type": "markdown",
   "metadata": {},
   "source": [
    "Linked list course\n",
    "\n",
    "node - container for some data\n",
    "\n",
    "first node - head\n",
    "last node - tail\n",
    "tail point to null\n",
    "\n",
    "ordered data structure\n",
    "\n",
    "Comparison to an array ordered data structure\n",
    "insertion - A: O(n) time - LL: O(1) time\n",
    "\n",
    "to pass a linked list, we only need to pass a reference to the head node\n",
    "\n",
    "Implement a traversal algorithm on a linked list\n",
    "we need the current node\n",
    "\n",
    "write logic about current node\n",
    "\n",
    "practice iterative and recursive versions of implementing\n",
    "\n",
    "sum list:\n",
    "time O(n)\n",
    "space O(n)\n",
    "\n",
    "find values iterative\n",
    "time: O(n)\n",
    "space: O(1)\n",
    "\n",
    "find value recursive\n",
    "time: O(n)\n",
    "space: O(n)\n",
    "base case 1: if head.val equal target, return true\n",
    "base case 2: if head is null, return false\n",
    "\n",
    "get node value\n",
    "iterative\n",
    "time:O(n)\n",
    "space:O(1)\n",
    "\n",
    "recursive\n",
    "time:\n",
    "space:\n",
    "\n",
    "base case\n",
    "if index equal 0, return node.val\n",
    "\n",
    "reverse linked list\n",
    "iterative\n",
    "time:O(n)\n",
    "space:O(1)\n",
    "\n",
    "\n"
   ]
  },
  {
   "cell_type": "code",
   "execution_count": 495,
   "metadata": {},
   "outputs": [],
   "source": [
    "class Node:\n",
    "\tdef __init__(self, val):\n",
    "\t\tself.val = val\n",
    "\t\tself.next = None\n",
    "\t\t\n",
    "\tdef print_linkedlist(self):\n",
    "\t\tcurrent = self\n",
    "\t\twhile (current is not None):\n",
    "\t\t\tprint(current.val)\n",
    "\t\t\tcurrent = current.next\n",
    "\t\n",
    "\tdef print_linkedlist_recursive(self, head):\n",
    "\t\t\tif head is None: return\n",
    "\t\t\tprint(head.val)\n",
    "\t\t\thead.print_linkedlist_recursive(head.next)\n",
    "\t\n",
    "\tdef get_values(self):\n",
    "\t\tvalues = []\n",
    "\t\tcurrent = self\n",
    "\t\twhile (current is not None):\n",
    "\t\t\t\tvalues.append(current.val)\n",
    "\t\t\t\tcurrent = current.next\n",
    "\t\treturn values\n",
    "\n",
    "\tdef get_values_recursive(self, head):\n",
    "\t\tvalues = []\n",
    "\t\tself.fill_values(head, values)\n",
    "\t\treturn values\n",
    "\t\n",
    "\tdef fill_values(self, head, values):\n",
    "\t\tif head is None: return\n",
    "\t\tvalues.append(head.val)\n",
    "\t\tself.fill_values(head.next, values)\n",
    "\n",
    "\tdef sum_list(self):\n",
    "\t\tcurrent = self\n",
    "\t\tsum = 0\n",
    "\t\twhile current is not None:\n",
    "\t\t\tsum += current.val\n",
    "\t\t\tcurrent = current.next\n",
    "\t\treturn sum\n",
    "\t\n",
    "\tdef sum_list_recursive(self, head):\n",
    "\t\tif not head: return 0\n",
    "\t\treturn head.val + self.sum_list_recursive(head.next)\n",
    "\t\n",
    "\tdef find_linkedlist(self, target):\n",
    "\t\tcurrent = self\n",
    "\t\twhile current:\n",
    "\t\t\tif current.val == target: return True\n",
    "\t\t\tcurrent = current.next\n",
    "\t\treturn False\n",
    "\t\n",
    "\tdef find_linkedlist_recursive(self, head, target):\n",
    "\t\tif not head: return False\n",
    "\t\tif head.val == target: return True\n",
    "\t\treturn self.find_linkedlist_recursive(head.next, target) \n",
    "\t\n",
    "\tdef get_node_value(self, index):\n",
    "\t\t\tcurrent = self\n",
    "\t\t\tcount = 0\n",
    "\t\t\twhile current:\n",
    "\t\t\t\tif count == index: return current.val\n",
    "\t\t\t\tcount += 1\n",
    "\t\t\t\tcurrent = current.next\n",
    "\t\t\treturn None\n",
    "\t\n",
    "\tdef get_node_value_recursive(self, head, index):\n",
    "\t\tif not head: return None\n",
    "\t\tif index == 0: return head.val\n",
    "\t\treturn self.get_node_value_recursive(head.next, index - 1)\n",
    "\t\n",
    "\tdef reverse(self, head):\n",
    "\t\tcurrent = head\n",
    "\t\tprev = None\n",
    "\t\twhile current:\n",
    "\t\t\tnxt = current.next\n",
    "\t\t\tcurrent.next = prev\n",
    "\t\t\tprev = current\n",
    "\t\t\tcurrent = nxt\n",
    "\t\treturn prev\n",
    "\t\n",
    "\tdef reverse_recursive(self, head, prev = None):\n",
    "\t\t\tif head == None: return prev\n",
    "\t\t\tnxt = head.next\n",
    "\t\t\thead.next = prev\n",
    "\t\t\treturn self.reverse_recursive(nxt, head)\n",
    "\t\n",
    "\tdef zipper(self, head1, head2):\n",
    "\t\t\ttail = head1\n",
    "\t\t\tcurrent1 = head1.next\n",
    "\t\t\tcurrent2 = head2\n",
    "\t\t\tcount = 0\n",
    "\n",
    "\t\t\twhile current1 and current2:\n",
    "\t\t\t\tif count % 2 == 0:\n",
    "\t\t\t\t\ttail.next = current2\n",
    "\t\t\t\t\tcurrent2 = current2.next\n",
    "\t\t\t\tif count % 2 == 1:\n",
    "\t\t\t\t\ttail.next = current1\n",
    "\t\t\t\t\tcurrent1 = current1.next\n",
    "\t\t\t\ttail = tail.next\n",
    "\t\t\t\tcount += 1\n",
    "\n",
    "\t\t\tif current1: tail.next = current1\n",
    "\t\t\tif current2: tail.next = current2\n",
    "\n",
    "\t\t\treturn head1\n",
    "\n",
    "\tdef zipper_recursive(self, head1, head2):\n",
    "\t\tif not head1 and not head2: return\n",
    "\t\tif not head1: return head2\n",
    "\t\tif not head2: return head1\n",
    "\n",
    "\t\tnxt1 = head1.next\n",
    "\t\tnxt2 = head2.next\n",
    "\t\thead1.next = head2\n",
    "\t\thead2.next = self.zipper_recursive(nxt1, nxt2)\n",
    "\t\treturn head1"
   ]
  },
  {
   "cell_type": "code",
   "execution_count": 337,
   "metadata": {},
   "outputs": [],
   "source": [
    "a = Node('A')\n",
    "b = Node('B')\n",
    "c = Node('C')\n",
    "d = Node('D')"
   ]
  },
  {
   "attachments": {},
   "cell_type": "markdown",
   "metadata": {},
   "source": [
    "A -> B -> C -> D -> null"
   ]
  },
  {
   "cell_type": "code",
   "execution_count": 338,
   "metadata": {},
   "outputs": [],
   "source": [
    "a.next = b\n",
    "b.next = c\n",
    "c.next = d"
   ]
  },
  {
   "cell_type": "code",
   "execution_count": 339,
   "metadata": {},
   "outputs": [
    {
     "name": "stdout",
     "output_type": "stream",
     "text": [
      "A\n",
      "B\n",
      "C\n",
      "D\n"
     ]
    }
   ],
   "source": [
    "a.print_linkedlist()"
   ]
  },
  {
   "cell_type": "code",
   "execution_count": 340,
   "metadata": {},
   "outputs": [
    {
     "name": "stdout",
     "output_type": "stream",
     "text": [
      "A\n",
      "B\n",
      "C\n",
      "D\n"
     ]
    }
   ],
   "source": [
    "a.print_linkedlist_recursive(a)"
   ]
  },
  {
   "cell_type": "code",
   "execution_count": 341,
   "metadata": {},
   "outputs": [
    {
     "data": {
      "text/plain": [
       "['A', 'B', 'C', 'D']"
      ]
     },
     "execution_count": 341,
     "metadata": {},
     "output_type": "execute_result"
    }
   ],
   "source": [
    "a.get_values()"
   ]
  },
  {
   "cell_type": "code",
   "execution_count": 342,
   "metadata": {},
   "outputs": [
    {
     "data": {
      "text/plain": [
       "['A', 'B', 'C', 'D']"
      ]
     },
     "execution_count": 342,
     "metadata": {},
     "output_type": "execute_result"
    }
   ],
   "source": [
    "a.get_values_recursive(a)"
   ]
  },
  {
   "cell_type": "code",
   "execution_count": 496,
   "metadata": {},
   "outputs": [],
   "source": [
    "a = Node(1)\n",
    "b = Node(3)\n",
    "c = Node(6)\n",
    "d = Node(10)\n",
    "\n",
    "a.next = b\n",
    "b.next = c\n",
    "c.next = d"
   ]
  },
  {
   "cell_type": "code",
   "execution_count": 497,
   "metadata": {},
   "outputs": [],
   "source": [
    "f = Node(2)\n",
    "g = Node(4)\n",
    "h = Node(7)\n",
    "i = Node(8)\n",
    "\n",
    "f.next = g\n",
    "g.next = h\n",
    "h.next = i"
   ]
  },
  {
   "cell_type": "code",
   "execution_count": 420,
   "metadata": {},
   "outputs": [
    {
     "data": {
      "text/plain": [
       "20"
      ]
     },
     "execution_count": 420,
     "metadata": {},
     "output_type": "execute_result"
    }
   ],
   "source": [
    "a.sum_list()"
   ]
  },
  {
   "cell_type": "code",
   "execution_count": 421,
   "metadata": {},
   "outputs": [
    {
     "data": {
      "text/plain": [
       "20"
      ]
     },
     "execution_count": 421,
     "metadata": {},
     "output_type": "execute_result"
    }
   ],
   "source": [
    "a.sum_list_recursive(a)"
   ]
  },
  {
   "cell_type": "code",
   "execution_count": 422,
   "metadata": {},
   "outputs": [
    {
     "data": {
      "text/plain": [
       "False"
      ]
     },
     "execution_count": 422,
     "metadata": {},
     "output_type": "execute_result"
    }
   ],
   "source": [
    "a.find_linkedlist(4)"
   ]
  },
  {
   "cell_type": "code",
   "execution_count": 423,
   "metadata": {},
   "outputs": [
    {
     "data": {
      "text/plain": [
       "True"
      ]
     },
     "execution_count": 423,
     "metadata": {},
     "output_type": "execute_result"
    }
   ],
   "source": [
    "a.find_linkedlist_recursive(a, 10)"
   ]
  },
  {
   "cell_type": "code",
   "execution_count": 424,
   "metadata": {},
   "outputs": [
    {
     "data": {
      "text/plain": [
       "6"
      ]
     },
     "execution_count": 424,
     "metadata": {},
     "output_type": "execute_result"
    }
   ],
   "source": [
    "a.get_node_value(2)"
   ]
  },
  {
   "cell_type": "code",
   "execution_count": 425,
   "metadata": {},
   "outputs": [
    {
     "data": {
      "text/plain": [
       "10"
      ]
     },
     "execution_count": 425,
     "metadata": {},
     "output_type": "execute_result"
    }
   ],
   "source": [
    "a.get_node_value_recursive(a, 3)"
   ]
  },
  {
   "cell_type": "code",
   "execution_count": 426,
   "metadata": {},
   "outputs": [
    {
     "data": {
      "text/plain": [
       "<__main__.Node at 0x7fb28bac1700>"
      ]
     },
     "execution_count": 426,
     "metadata": {},
     "output_type": "execute_result"
    }
   ],
   "source": [
    "a.reverse(a)"
   ]
  },
  {
   "cell_type": "code",
   "execution_count": 430,
   "metadata": {},
   "outputs": [
    {
     "data": {
      "text/plain": [
       "6"
      ]
     },
     "execution_count": 430,
     "metadata": {},
     "output_type": "execute_result"
    }
   ],
   "source": [
    "d.next.val"
   ]
  },
  {
   "cell_type": "code",
   "execution_count": 472,
   "metadata": {},
   "outputs": [
    {
     "data": {
      "text/plain": [
       "<__main__.Node at 0x7fb2a47bbb50>"
      ]
     },
     "execution_count": 472,
     "metadata": {},
     "output_type": "execute_result"
    }
   ],
   "source": [
    "a.reverse_recursive(a)"
   ]
  },
  {
   "cell_type": "code",
   "execution_count": 473,
   "metadata": {},
   "outputs": [
    {
     "ename": "AttributeError",
     "evalue": "'NoneType' object has no attribute 'val'",
     "output_type": "error",
     "traceback": [
      "\u001b[0;31m---------------------------------------------------------------------------\u001b[0m",
      "\u001b[0;31mAttributeError\u001b[0m                            Traceback (most recent call last)",
      "\u001b[0;32m/tmp/ipykernel_131801/1401766707.py\u001b[0m in \u001b[0;36m<cell line: 1>\u001b[0;34m()\u001b[0m\n\u001b[0;32m----> 1\u001b[0;31m \u001b[0ma\u001b[0m\u001b[0;34m.\u001b[0m\u001b[0mnext\u001b[0m\u001b[0;34m.\u001b[0m\u001b[0mval\u001b[0m\u001b[0;34m\u001b[0m\u001b[0;34m\u001b[0m\u001b[0m\n\u001b[0m",
      "\u001b[0;31mAttributeError\u001b[0m: 'NoneType' object has no attribute 'val'"
     ]
    }
   ],
   "source": [
    "a.next.val"
   ]
  },
  {
   "cell_type": "code",
   "execution_count": 474,
   "metadata": {},
   "outputs": [
    {
     "data": {
      "text/plain": [
       "3"
      ]
     },
     "execution_count": 474,
     "metadata": {},
     "output_type": "execute_result"
    }
   ],
   "source": [
    "c.next.val"
   ]
  },
  {
   "cell_type": "code",
   "execution_count": 475,
   "metadata": {},
   "outputs": [
    {
     "data": {
      "text/plain": [
       "1"
      ]
     },
     "execution_count": 475,
     "metadata": {},
     "output_type": "execute_result"
    }
   ],
   "source": [
    "b.next.val"
   ]
  },
  {
   "cell_type": "code",
   "execution_count": 476,
   "metadata": {},
   "outputs": [
    {
     "data": {
      "text/plain": [
       "6"
      ]
     },
     "execution_count": 476,
     "metadata": {},
     "output_type": "execute_result"
    }
   ],
   "source": [
    "d.next.val"
   ]
  },
  {
   "cell_type": "code",
   "execution_count": 498,
   "metadata": {},
   "outputs": [],
   "source": [
    "lists = a.zipper_recursive(a,f)"
   ]
  },
  {
   "cell_type": "code",
   "execution_count": 499,
   "metadata": {},
   "outputs": [
    {
     "name": "stdout",
     "output_type": "stream",
     "text": [
      "1\n",
      "2\n",
      "3\n",
      "4\n",
      "6\n",
      "7\n",
      "10\n",
      "8\n"
     ]
    }
   ],
   "source": [
    "lists.print_linkedlist()"
   ]
  },
  {
   "cell_type": "code",
   "execution_count": null,
   "metadata": {},
   "outputs": [],
   "source": []
  }
 ],
 "metadata": {
  "kernelspec": {
   "display_name": "base",
   "language": "python",
   "name": "python3"
  },
  "language_info": {
   "codemirror_mode": {
    "name": "ipython",
    "version": 3
   },
   "file_extension": ".py",
   "mimetype": "text/x-python",
   "name": "python",
   "nbconvert_exporter": "python",
   "pygments_lexer": "ipython3",
   "version": "3.9.16 | packaged by conda-forge | (main, Feb  1 2023, 21:39:03) \n[GCC 11.3.0]"
  },
  "orig_nbformat": 4,
  "vscode": {
   "interpreter": {
    "hash": "b5cfa023891fceef02537f80a4c6e95b77988fb973cdb16a51cdb785092210be"
   }
  }
 },
 "nbformat": 4,
 "nbformat_minor": 2
}
